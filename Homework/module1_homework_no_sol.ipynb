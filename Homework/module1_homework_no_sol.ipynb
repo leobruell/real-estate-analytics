{
 "cells": [
  {
   "cell_type": "markdown",
   "id": "b5addec4-a5eb-4c49-8c40-e63aac766190",
   "metadata": {},
   "source": [
    "# Module 1: Upper East - Homework\n",
    "## B8474 Real Estate Analytics"
   ]
  },
  {
   "cell_type": "markdown",
   "id": "2f4feae5-9ee5-4c92-8d34-0b2e82a97a6c",
   "metadata": {},
   "source": [
    "**Name:** Leo Bruell"
   ]
  },
  {
   "cell_type": "markdown",
   "id": "664aa72e-2d02-473d-bca8-684d10b34c4d",
   "metadata": {},
   "source": [
    "**<u style=\"color:red\">NOTE FOR SUBMISSION</u>**\n",
    "\n",
    "- Please rename the notebook as 'module1_homework_fisrtname_lastname', then submit\n",
    "- Please also submit a `.html` file in the <u>same file name</u> along with this notebook\n",
    "- Please **DO NOT** submit a `.py` file\n",
    "\n",
    "To export `.html` file:\n",
    "- In Jupyter Notebook\n",
    "    - File -> Download as -> HTML\n",
    "- In Jupyter Lab\n",
    "    - File -> Save and Export Notebook As -> HTML"
   ]
  },
  {
   "cell_type": "markdown",
   "id": "10c85752-bc1d-4ced-bc98-8fc08ecdc8a2",
   "metadata": {},
   "source": [
    "## 0. Data Introduction and Import Packages\n",
    "In the same directory you will find the data file we'll use for this homework, \"manhattan.csv\". This is a sample from StreetEasy describing a subset of rental activities in New York. You are supposed to do some simple data manipulations for this dataset and gain insights along with the data processing and analysis."
   ]
  },
  {
   "cell_type": "code",
   "execution_count": 13,
   "id": "e4fad8e3-ef06-46e0-add6-5b9b1407421b",
   "metadata": {},
   "outputs": [],
   "source": [
    "import numpy as np\n",
    "import pandas as pd\n",
    "import missingno as msno\n",
    "import matplotlib.pyplot as plt"
   ]
  },
  {
   "cell_type": "markdown",
   "id": "13c9e6dc-d8fa-4047-a87c-109b460f6539",
   "metadata": {},
   "source": [
    "## 1. Sample Description"
   ]
  },
  {
   "cell_type": "markdown",
   "id": "9a3801eb-e1e4-40db-b560-f0434b2f53cd",
   "metadata": {},
   "source": [
    "**1.1 Load `manhattan.csv` through pandas**"
   ]
  },
  {
   "cell_type": "code",
   "execution_count": 2,
   "id": "8df2685d-6f4f-488a-a1ac-fa75c113b9f8",
   "metadata": {},
   "outputs": [],
   "source": [
    "# insert code here\n",
    "df = pd.read_csv(\"../data/manhattan.csv\")"
   ]
  },
  {
   "cell_type": "markdown",
   "id": "1ecdc988-fedb-4954-99f3-6ce888e15e80",
   "metadata": {},
   "source": [
    "**1.2 Check the number of observations, data type, mean, median, 25%, and 75% percentiles.**"
   ]
  },
  {
   "cell_type": "code",
   "execution_count": 9,
   "id": "5af6c4cc-6423-437f-b335-bc355d18c1d6",
   "metadata": {},
   "outputs": [
    {
     "data": {
      "text/plain": [
       "(3539, 18)"
      ]
     },
     "execution_count": 9,
     "metadata": {},
     "output_type": "execute_result"
    }
   ],
   "source": [
    "# insert code here\n",
    "df.shape # 3,539 rows, 18 columns"
   ]
  },
  {
   "cell_type": "code",
   "execution_count": 6,
   "id": "6608b7ff",
   "metadata": {},
   "outputs": [
    {
     "name": "stdout",
     "output_type": "stream",
     "text": [
      "<class 'pandas.core.frame.DataFrame'>\n",
      "RangeIndex: 3539 entries, 0 to 3538\n",
      "Data columns (total 18 columns):\n",
      " #   Column            Non-Null Count  Dtype  \n",
      "---  ------            --------------  -----  \n",
      " 0   rental_id         3539 non-null   int64  \n",
      " 1   rent              3539 non-null   int64  \n",
      " 2   bedrooms          3539 non-null   float64\n",
      " 3   bathrooms         3539 non-null   int64  \n",
      " 4   size_sqft         3539 non-null   int64  \n",
      " 5   min_to_subway     3539 non-null   int64  \n",
      " 6   floor             3539 non-null   float64\n",
      " 7   building_age_yrs  3539 non-null   int64  \n",
      " 8   no_fee            3539 non-null   int64  \n",
      " 9   has_roofdeck      3539 non-null   int64  \n",
      " 10  has_washer_dryer  3539 non-null   int64  \n",
      " 11  has_doorman       3539 non-null   int64  \n",
      " 12  has_elevator      3539 non-null   int64  \n",
      " 13  has_dishwasher    3539 non-null   int64  \n",
      " 14  has_patio         3539 non-null   int64  \n",
      " 15  has_gym           3539 non-null   int64  \n",
      " 16  neighborhood      3539 non-null   object \n",
      " 17  borough           3539 non-null   object \n",
      "dtypes: float64(2), int64(14), object(2)\n",
      "memory usage: 497.8+ KB\n"
     ]
    }
   ],
   "source": [
    "df.info()"
   ]
  },
  {
   "cell_type": "code",
   "execution_count": 8,
   "id": "4410de80",
   "metadata": {},
   "outputs": [
    {
     "data": {
      "text/html": [
       "<div>\n",
       "<style scoped>\n",
       "    .dataframe tbody tr th:only-of-type {\n",
       "        vertical-align: middle;\n",
       "    }\n",
       "\n",
       "    .dataframe tbody tr th {\n",
       "        vertical-align: top;\n",
       "    }\n",
       "\n",
       "    .dataframe thead th {\n",
       "        text-align: right;\n",
       "    }\n",
       "</style>\n",
       "<table border=\"1\" class=\"dataframe\">\n",
       "  <thead>\n",
       "    <tr style=\"text-align: right;\">\n",
       "      <th></th>\n",
       "      <th>rental_id</th>\n",
       "      <th>rent</th>\n",
       "      <th>bedrooms</th>\n",
       "      <th>bathrooms</th>\n",
       "      <th>size_sqft</th>\n",
       "      <th>min_to_subway</th>\n",
       "      <th>floor</th>\n",
       "      <th>building_age_yrs</th>\n",
       "      <th>no_fee</th>\n",
       "      <th>has_roofdeck</th>\n",
       "      <th>has_washer_dryer</th>\n",
       "      <th>has_doorman</th>\n",
       "      <th>has_elevator</th>\n",
       "      <th>has_dishwasher</th>\n",
       "      <th>has_patio</th>\n",
       "      <th>has_gym</th>\n",
       "      <th>neighborhood</th>\n",
       "      <th>borough</th>\n",
       "    </tr>\n",
       "  </thead>\n",
       "  <tbody>\n",
       "    <tr>\n",
       "      <th>count</th>\n",
       "      <td>3539.000000</td>\n",
       "      <td>3539.000000</td>\n",
       "      <td>3539.000000</td>\n",
       "      <td>3539.000000</td>\n",
       "      <td>3539.000000</td>\n",
       "      <td>3539.000000</td>\n",
       "      <td>3539.000000</td>\n",
       "      <td>3539.000000</td>\n",
       "      <td>3539.000000</td>\n",
       "      <td>3539.000000</td>\n",
       "      <td>3539.000000</td>\n",
       "      <td>3539.000000</td>\n",
       "      <td>3539.000000</td>\n",
       "      <td>3539.000000</td>\n",
       "      <td>3539.000000</td>\n",
       "      <td>3539.000000</td>\n",
       "      <td>3539</td>\n",
       "      <td>3539</td>\n",
       "    </tr>\n",
       "    <tr>\n",
       "      <th>unique</th>\n",
       "      <td>NaN</td>\n",
       "      <td>NaN</td>\n",
       "      <td>NaN</td>\n",
       "      <td>NaN</td>\n",
       "      <td>NaN</td>\n",
       "      <td>NaN</td>\n",
       "      <td>NaN</td>\n",
       "      <td>NaN</td>\n",
       "      <td>NaN</td>\n",
       "      <td>NaN</td>\n",
       "      <td>NaN</td>\n",
       "      <td>NaN</td>\n",
       "      <td>NaN</td>\n",
       "      <td>NaN</td>\n",
       "      <td>NaN</td>\n",
       "      <td>NaN</td>\n",
       "      <td>32</td>\n",
       "      <td>1</td>\n",
       "    </tr>\n",
       "    <tr>\n",
       "      <th>top</th>\n",
       "      <td>NaN</td>\n",
       "      <td>NaN</td>\n",
       "      <td>NaN</td>\n",
       "      <td>NaN</td>\n",
       "      <td>NaN</td>\n",
       "      <td>NaN</td>\n",
       "      <td>NaN</td>\n",
       "      <td>NaN</td>\n",
       "      <td>NaN</td>\n",
       "      <td>NaN</td>\n",
       "      <td>NaN</td>\n",
       "      <td>NaN</td>\n",
       "      <td>NaN</td>\n",
       "      <td>NaN</td>\n",
       "      <td>NaN</td>\n",
       "      <td>NaN</td>\n",
       "      <td>Upper West Side</td>\n",
       "      <td>Manhattan</td>\n",
       "    </tr>\n",
       "    <tr>\n",
       "      <th>freq</th>\n",
       "      <td>NaN</td>\n",
       "      <td>NaN</td>\n",
       "      <td>NaN</td>\n",
       "      <td>NaN</td>\n",
       "      <td>NaN</td>\n",
       "      <td>NaN</td>\n",
       "      <td>NaN</td>\n",
       "      <td>NaN</td>\n",
       "      <td>NaN</td>\n",
       "      <td>NaN</td>\n",
       "      <td>NaN</td>\n",
       "      <td>NaN</td>\n",
       "      <td>NaN</td>\n",
       "      <td>NaN</td>\n",
       "      <td>NaN</td>\n",
       "      <td>NaN</td>\n",
       "      <td>579</td>\n",
       "      <td>3539</td>\n",
       "    </tr>\n",
       "    <tr>\n",
       "      <th>mean</th>\n",
       "      <td>5332.589997</td>\n",
       "      <td>5138.940379</td>\n",
       "      <td>1.351936</td>\n",
       "      <td>1.366770</td>\n",
       "      <td>939.727324</td>\n",
       "      <td>4.970896</td>\n",
       "      <td>11.908307</td>\n",
       "      <td>51.994914</td>\n",
       "      <td>0.403504</td>\n",
       "      <td>0.154846</td>\n",
       "      <td>0.160215</td>\n",
       "      <td>0.281153</td>\n",
       "      <td>0.294716</td>\n",
       "      <td>0.185646</td>\n",
       "      <td>0.055100</td>\n",
       "      <td>0.174908</td>\n",
       "      <td>NaN</td>\n",
       "      <td>NaN</td>\n",
       "    </tr>\n",
       "    <tr>\n",
       "      <th>std</th>\n",
       "      <td>3311.552136</td>\n",
       "      <td>3162.824760</td>\n",
       "      <td>0.967595</td>\n",
       "      <td>0.599588</td>\n",
       "      <td>477.949074</td>\n",
       "      <td>5.513589</td>\n",
       "      <td>10.960893</td>\n",
       "      <td>39.380433</td>\n",
       "      <td>0.490669</td>\n",
       "      <td>0.361809</td>\n",
       "      <td>0.366857</td>\n",
       "      <td>0.449625</td>\n",
       "      <td>0.455979</td>\n",
       "      <td>0.388875</td>\n",
       "      <td>0.228208</td>\n",
       "      <td>0.379942</td>\n",
       "      <td>NaN</td>\n",
       "      <td>NaN</td>\n",
       "    </tr>\n",
       "    <tr>\n",
       "      <th>min</th>\n",
       "      <td>1.000000</td>\n",
       "      <td>1300.000000</td>\n",
       "      <td>0.000000</td>\n",
       "      <td>0.000000</td>\n",
       "      <td>250.000000</td>\n",
       "      <td>0.000000</td>\n",
       "      <td>0.000000</td>\n",
       "      <td>0.000000</td>\n",
       "      <td>0.000000</td>\n",
       "      <td>0.000000</td>\n",
       "      <td>0.000000</td>\n",
       "      <td>0.000000</td>\n",
       "      <td>0.000000</td>\n",
       "      <td>0.000000</td>\n",
       "      <td>0.000000</td>\n",
       "      <td>0.000000</td>\n",
       "      <td>NaN</td>\n",
       "      <td>NaN</td>\n",
       "    </tr>\n",
       "    <tr>\n",
       "      <th>25%</th>\n",
       "      <td>2443.500000</td>\n",
       "      <td>3150.000000</td>\n",
       "      <td>1.000000</td>\n",
       "      <td>1.000000</td>\n",
       "      <td>613.000000</td>\n",
       "      <td>2.000000</td>\n",
       "      <td>4.000000</td>\n",
       "      <td>15.000000</td>\n",
       "      <td>0.000000</td>\n",
       "      <td>0.000000</td>\n",
       "      <td>0.000000</td>\n",
       "      <td>0.000000</td>\n",
       "      <td>0.000000</td>\n",
       "      <td>0.000000</td>\n",
       "      <td>0.000000</td>\n",
       "      <td>0.000000</td>\n",
       "      <td>NaN</td>\n",
       "      <td>NaN</td>\n",
       "    </tr>\n",
       "    <tr>\n",
       "      <th>50%</th>\n",
       "      <td>5128.000000</td>\n",
       "      <td>4000.000000</td>\n",
       "      <td>1.000000</td>\n",
       "      <td>1.000000</td>\n",
       "      <td>800.000000</td>\n",
       "      <td>4.000000</td>\n",
       "      <td>8.000000</td>\n",
       "      <td>39.000000</td>\n",
       "      <td>0.000000</td>\n",
       "      <td>0.000000</td>\n",
       "      <td>0.000000</td>\n",
       "      <td>0.000000</td>\n",
       "      <td>0.000000</td>\n",
       "      <td>0.000000</td>\n",
       "      <td>0.000000</td>\n",
       "      <td>0.000000</td>\n",
       "      <td>NaN</td>\n",
       "      <td>NaN</td>\n",
       "    </tr>\n",
       "    <tr>\n",
       "      <th>75%</th>\n",
       "      <td>8149.500000</td>\n",
       "      <td>6000.000000</td>\n",
       "      <td>2.000000</td>\n",
       "      <td>2.000000</td>\n",
       "      <td>1141.000000</td>\n",
       "      <td>6.000000</td>\n",
       "      <td>17.000000</td>\n",
       "      <td>90.000000</td>\n",
       "      <td>1.000000</td>\n",
       "      <td>0.000000</td>\n",
       "      <td>0.000000</td>\n",
       "      <td>1.000000</td>\n",
       "      <td>1.000000</td>\n",
       "      <td>0.000000</td>\n",
       "      <td>0.000000</td>\n",
       "      <td>0.000000</td>\n",
       "      <td>NaN</td>\n",
       "      <td>NaN</td>\n",
       "    </tr>\n",
       "    <tr>\n",
       "      <th>max</th>\n",
       "      <td>11349.000000</td>\n",
       "      <td>20000.000000</td>\n",
       "      <td>5.000000</td>\n",
       "      <td>5.000000</td>\n",
       "      <td>4800.000000</td>\n",
       "      <td>43.000000</td>\n",
       "      <td>83.000000</td>\n",
       "      <td>180.000000</td>\n",
       "      <td>1.000000</td>\n",
       "      <td>1.000000</td>\n",
       "      <td>1.000000</td>\n",
       "      <td>1.000000</td>\n",
       "      <td>1.000000</td>\n",
       "      <td>1.000000</td>\n",
       "      <td>1.000000</td>\n",
       "      <td>1.000000</td>\n",
       "      <td>NaN</td>\n",
       "      <td>NaN</td>\n",
       "    </tr>\n",
       "  </tbody>\n",
       "</table>\n",
       "</div>"
      ],
      "text/plain": [
       "           rental_id          rent     bedrooms    bathrooms    size_sqft  \\\n",
       "count    3539.000000   3539.000000  3539.000000  3539.000000  3539.000000   \n",
       "unique           NaN           NaN          NaN          NaN          NaN   \n",
       "top              NaN           NaN          NaN          NaN          NaN   \n",
       "freq             NaN           NaN          NaN          NaN          NaN   \n",
       "mean     5332.589997   5138.940379     1.351936     1.366770   939.727324   \n",
       "std      3311.552136   3162.824760     0.967595     0.599588   477.949074   \n",
       "min         1.000000   1300.000000     0.000000     0.000000   250.000000   \n",
       "25%      2443.500000   3150.000000     1.000000     1.000000   613.000000   \n",
       "50%      5128.000000   4000.000000     1.000000     1.000000   800.000000   \n",
       "75%      8149.500000   6000.000000     2.000000     2.000000  1141.000000   \n",
       "max     11349.000000  20000.000000     5.000000     5.000000  4800.000000   \n",
       "\n",
       "        min_to_subway        floor  building_age_yrs       no_fee  \\\n",
       "count     3539.000000  3539.000000       3539.000000  3539.000000   \n",
       "unique            NaN          NaN               NaN          NaN   \n",
       "top               NaN          NaN               NaN          NaN   \n",
       "freq              NaN          NaN               NaN          NaN   \n",
       "mean         4.970896    11.908307         51.994914     0.403504   \n",
       "std          5.513589    10.960893         39.380433     0.490669   \n",
       "min          0.000000     0.000000          0.000000     0.000000   \n",
       "25%          2.000000     4.000000         15.000000     0.000000   \n",
       "50%          4.000000     8.000000         39.000000     0.000000   \n",
       "75%          6.000000    17.000000         90.000000     1.000000   \n",
       "max         43.000000    83.000000        180.000000     1.000000   \n",
       "\n",
       "        has_roofdeck  has_washer_dryer  has_doorman  has_elevator  \\\n",
       "count    3539.000000       3539.000000  3539.000000   3539.000000   \n",
       "unique           NaN               NaN          NaN           NaN   \n",
       "top              NaN               NaN          NaN           NaN   \n",
       "freq             NaN               NaN          NaN           NaN   \n",
       "mean        0.154846          0.160215     0.281153      0.294716   \n",
       "std         0.361809          0.366857     0.449625      0.455979   \n",
       "min         0.000000          0.000000     0.000000      0.000000   \n",
       "25%         0.000000          0.000000     0.000000      0.000000   \n",
       "50%         0.000000          0.000000     0.000000      0.000000   \n",
       "75%         0.000000          0.000000     1.000000      1.000000   \n",
       "max         1.000000          1.000000     1.000000      1.000000   \n",
       "\n",
       "        has_dishwasher    has_patio      has_gym     neighborhood    borough  \n",
       "count      3539.000000  3539.000000  3539.000000             3539       3539  \n",
       "unique             NaN          NaN          NaN               32          1  \n",
       "top                NaN          NaN          NaN  Upper West Side  Manhattan  \n",
       "freq               NaN          NaN          NaN              579       3539  \n",
       "mean          0.185646     0.055100     0.174908              NaN        NaN  \n",
       "std           0.388875     0.228208     0.379942              NaN        NaN  \n",
       "min           0.000000     0.000000     0.000000              NaN        NaN  \n",
       "25%           0.000000     0.000000     0.000000              NaN        NaN  \n",
       "50%           0.000000     0.000000     0.000000              NaN        NaN  \n",
       "75%           0.000000     0.000000     0.000000              NaN        NaN  \n",
       "max           1.000000     1.000000     1.000000              NaN        NaN  "
      ]
     },
     "execution_count": 8,
     "metadata": {},
     "output_type": "execute_result"
    }
   ],
   "source": [
    "df.describe(include=[\"object\",\"int\",\"float\"])"
   ]
  },
  {
   "cell_type": "markdown",
   "id": "8f037587-5b0c-453a-9bd3-d95a98d11ec5",
   "metadata": {},
   "source": [
    "**1.3 Does this dataset contain missing value?**\n",
    "\n",
    "*hint: can use a package that we mentioned in class*"
   ]
  },
  {
   "cell_type": "markdown",
   "id": "e01cfdf9-d5e1-4a9f-b3f7-3a4d28ec7ed9",
   "metadata": {},
   "source": [
    "From the info method above, we see that every column has the same number of non-null values, and that this number is the same as the number of rows in the dataframe. This means that there are no missing values. Additionally, we can use the missingo package to confirm. "
   ]
  },
  {
   "cell_type": "code",
   "execution_count": 14,
   "id": "5f334c13-f5bb-44bf-b497-a7328f9875e8",
   "metadata": {},
   "outputs": [
    {
     "data": {
      "image/png": "[encoded data removed]",
      "text/plain": [
       "<Figure size 2500x1000 with 2 Axes>"
      ]
     },
     "metadata": {},
     "output_type": "display_data"
    }
   ],
   "source": [
    "# insert code here\n",
    "msno.matrix(df)\n",
    "plt.show()"
   ]
  },
  {
   "cell_type": "markdown",
   "id": "a9581021-8086-47b9-a29a-b93136304f61",
   "metadata": {},
   "source": [
    "**1.4 Does variable \"rent\" has outliers?**"
   ]
  },
  {
   "cell_type": "markdown",
   "id": "df3c38a2-5801-4f2e-b081-dbd0076f9ccf",
   "metadata": {},
   "source": [
    "Yes, the rent variable has outlier values, particularly on the high end. We see below that the average rent is 4,000 and the 75 percentile is 6,000, but the maximum is 20,000. Additionally, we can plot the outliers on a boxplot. In the boxplot below, we see that there are many outliers above 10,000. "
   ]
  },
  {
   "cell_type": "code",
   "execution_count": 15,
   "id": "a5d01a6d-41b5-473d-914d-ae3d6a17c571",
   "metadata": {},
   "outputs": [
    {
     "data": {
      "text/plain": [
       "count     3539.000000\n",
       "mean      5138.940379\n",
       "std       3162.824760\n",
       "min       1300.000000\n",
       "25%       3150.000000\n",
       "50%       4000.000000\n",
       "75%       6000.000000\n",
       "max      20000.000000\n",
       "Name: rent, dtype: float64"
      ]
     },
     "execution_count": 15,
     "metadata": {},
     "output_type": "execute_result"
    }
   ],
   "source": [
    "# insert code here\n",
    "df.rent.describe()"
   ]
  },
  {
   "cell_type": "code",
   "execution_count": 22,
   "id": "82bbeadb",
   "metadata": {},
   "outputs": [
    {
     "data": {
      "image/png": "[encoded data removed]",
      "text/plain": [
       "<Figure size 640x480 with 1 Axes>"
      ]
     },
     "metadata": {},
     "output_type": "display_data"
    }
   ],
   "source": [
    "df[['rent']].boxplot()\n",
    "plt.show()"
   ]
  },
  {
   "cell_type": "markdown",
   "id": "4301d83d-43e2-4db4-9d9d-9bfd4f96420e",
   "metadata": {},
   "source": [
    "**1.5 What about the logarithm of rent?**"
   ]
  },
  {
   "cell_type": "markdown",
   "id": "471af610-7d00-4f53-a3ae-01f0b7ca1532",
   "metadata": {},
   "source": [
    "We see from the boxplot below that the natural log of rent still has a few outliers. However, there are much fewer than before."
   ]
  },
  {
   "cell_type": "code",
   "execution_count": 23,
   "id": "6e90a012-aff2-4c60-9369-31f7cf858329",
   "metadata": {},
   "outputs": [],
   "source": [
    "# insert code here\n",
    "df['lg_rent'] = np.log(df.rent)"
   ]
  },
  {
   "cell_type": "code",
   "execution_count": 24,
   "id": "25716b7f",
   "metadata": {},
   "outputs": [
    {
     "data": {
      "text/plain": [
       "count    3539.000000\n",
       "mean        8.403007\n",
       "std         0.506105\n",
       "min         7.170120\n",
       "25%         8.055158\n",
       "50%         8.294050\n",
       "75%         8.699515\n",
       "max         9.903488\n",
       "Name: lg_rent, dtype: float64"
      ]
     },
     "execution_count": 24,
     "metadata": {},
     "output_type": "execute_result"
    }
   ],
   "source": [
    "df.lg_rent.describe()"
   ]
  },
  {
   "cell_type": "code",
   "execution_count": 25,
   "id": "747e628b",
   "metadata": {},
   "outputs": [
    {
     "data": {
      "text/plain": [
       "<Axes: >"
      ]
     },
     "execution_count": 25,
     "metadata": {},
     "output_type": "execute_result"
    },
    {
     "data": {
      "image/png": "[encoded data removed]",
      "text/plain": [
       "<Figure size 640x480 with 1 Axes>"
      ]
     },
     "metadata": {},
     "output_type": "display_data"
    }
   ],
   "source": [
    "df[[\"lg_rent\"]].boxplot()"
   ]
  },
  {
   "cell_type": "markdown",
   "id": "b5c6f7e0-1122-4cd9-bf65-5663da43c248",
   "metadata": {},
   "source": [
    "## 2. Multivariate Analysis"
   ]
  },
  {
   "cell_type": "markdown",
   "id": "eabc1b8b-7442-41c4-82e4-dfab6ba32833",
   "metadata": {},
   "source": [
    "**2.1 Calculate the Pearson correlation of all <u>numeric</u> variables. Which of the variable has the highest correlation to rent? What is your explanation?**"
   ]
  },
  {
   "cell_type": "markdown",
   "id": "d8199794-b3ea-442c-ab8b-d91ea2a8b8d6",
   "metadata": {},
   "source": [
    "[Insert answer here]"
   ]
  },
  {
   "cell_type": "code",
   "execution_count": null,
   "id": "6d66d92a-0c3e-4fa0-aa7a-d23723c2b727",
   "metadata": {},
   "outputs": [],
   "source": [
    "# insert code here"
   ]
  },
  {
   "cell_type": "markdown",
   "id": "57ecfb91-828a-487b-ab17-545084ffea83",
   "metadata": {},
   "source": [
    "**2.2 Do a scatter plot between rent and the variable in your answer for the previous question. What do you find?**"
   ]
  },
  {
   "cell_type": "markdown",
   "id": "a9fca169-24bd-41db-a430-a5d1263bffae",
   "metadata": {},
   "source": [
    "[Insert answer here]"
   ]
  },
  {
   "cell_type": "code",
   "execution_count": null,
   "id": "95e090a7-e518-4f8b-bdef-5df9e6324935",
   "metadata": {},
   "outputs": [],
   "source": [
    "# insert code here"
   ]
  },
  {
   "cell_type": "markdown",
   "id": "109c28ee-da58-4346-a5b6-614ec3416ad7",
   "metadata": {},
   "source": [
    "**2.3 Normalize the rent by that variable (through division), call it `norm_rent`, and calculate its correlation with that selected feature. What do you find?**"
   ]
  },
  {
   "cell_type": "markdown",
   "id": "bc0f06c0-8efa-4e53-bfe6-6c102f662844",
   "metadata": {},
   "source": [
    "[Insert answer here]"
   ]
  },
  {
   "cell_type": "code",
   "execution_count": null,
   "id": "36e64bd2-f2a5-4c20-ada9-82dba244327b",
   "metadata": {},
   "outputs": [],
   "source": [
    "# insert code here"
   ]
  },
  {
   "cell_type": "markdown",
   "id": "dbb79398-3c2e-4dee-8238-d7d115acebba",
   "metadata": {},
   "source": [
    "**2.4 Based on the normalized rent, <u>re-do</u> question 2.1 and find the most correlated feature.**"
   ]
  },
  {
   "cell_type": "markdown",
   "id": "2a7b853c-da20-4b40-baa8-46975bda5b41",
   "metadata": {},
   "source": [
    "[Insert answer here]"
   ]
  },
  {
   "cell_type": "code",
   "execution_count": null,
   "id": "3afbe9d5-a22c-4525-9a8f-aa560cdf5a16",
   "metadata": {},
   "outputs": [],
   "source": [
    "# insert code here"
   ]
  },
  {
   "cell_type": "markdown",
   "id": "7aeb9b1a-220f-42f8-84de-2bb712a813da",
   "metadata": {},
   "source": [
    "## 3. Regression Analysis"
   ]
  },
  {
   "cell_type": "markdown",
   "id": "086971ae",
   "metadata": {},
   "source": [
    "**3.1 Do a regression analysis according to the following specification:**\n",
    "\n",
    "$$\n",
    "    \\log(\\text{rent}) \\sim \\text{min_to_subway} + \\log(\\text{building_age_yrs}) + \\log(\\text{size_sqft}) + \\text{no_fee} + \\text{bedrooms} + \\text{bathrooms}\n",
    "$$\n",
    "\n",
    "**Report $\\hat{\\beta}$, standard error, t-statistics, p-value, and $R^2$.**"
   ]
  },
  {
   "cell_type": "markdown",
   "id": "64f1315e-a7cf-4610-ac4b-aa446d2e4460",
   "metadata": {},
   "source": [
    "[Insert answer here]"
   ]
  },
  {
   "cell_type": "code",
   "execution_count": null,
   "id": "5ca79f9e-17aa-4377-9ef1-cb9c7d6af879",
   "metadata": {},
   "outputs": [],
   "source": [
    "# insert code here"
   ]
  },
  {
   "cell_type": "markdown",
   "id": "960d4427",
   "metadata": {},
   "source": [
    "**3.2 How do you interpret the coefficient on $\\log(\\text{size_sqft})$?**"
   ]
  },
  {
   "cell_type": "markdown",
   "id": "0efce827-fa02-492e-8d2d-307923eb5369",
   "metadata": {},
   "source": [
    "[Insert answer here]"
   ]
  },
  {
   "cell_type": "markdown",
   "id": "03e7a15a",
   "metadata": {},
   "source": [
    "**3.3 Remove $\\log(\\text{size_sqft})$ from the independent variables, and <u>re-do</u> the above regression keeping the independent variables fixed. Report the result.**"
   ]
  },
  {
   "cell_type": "code",
   "execution_count": null,
   "id": "f36f8065-0944-46ca-8ea1-faa42aba0e81",
   "metadata": {},
   "outputs": [],
   "source": [
    "# insert code here"
   ]
  },
  {
   "cell_type": "markdown",
   "id": "4ce6c15f",
   "metadata": {},
   "source": [
    "**3.4 Compare the results to the former one. Which $\\hat{\\beta}$ s have different signs or significance levels? What is your interpretation?**"
   ]
  },
  {
   "cell_type": "markdown",
   "id": "3de6ec2f-64c2-4a52-8b96-b1635eceab18",
   "metadata": {},
   "source": [
    "[Insert answer here]"
   ]
  }
 ],
 "metadata": {
  "kernelspec": {
   "display_name": "Python 3",
   "language": "python",
   "name": "python3"
  },
  "language_info": {
   "codemirror_mode": {
    "name": "ipython",
    "version": 3
   },
   "file_extension": ".py",
   "mimetype": "text/x-python",
   "name": "python",
   "nbconvert_exporter": "python",
   "pygments_lexer": "ipython3",
   "version": "3.10.12"
  }
 },
 "nbformat": 4,
 "nbformat_minor": 5
}
