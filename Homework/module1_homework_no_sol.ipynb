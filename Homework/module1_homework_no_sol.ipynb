{
 "cells": [
  {
   "cell_type": "markdown",
   "id": "b5addec4-a5eb-4c49-8c40-e63aac766190",
   "metadata": {},
   "source": [
    "# Module 1: Upper East - Homework\n",
    "## B8474 Real Estate Analytics"
   ]
  },
  {
   "cell_type": "markdown",
   "id": "2f4feae5-9ee5-4c92-8d34-0b2e82a97a6c",
   "metadata": {},
   "source": [
    "**Name:** [Your name]"
   ]
  },
  {
   "cell_type": "markdown",
   "id": "664aa72e-2d02-473d-bca8-684d10b34c4d",
   "metadata": {},
   "source": [
    "**<u style=\"color:red\">NOTE FOR SUBMISSION</u>**\n",
    "\n",
    "- Please rename the notebook as 'module1_homework_fisrtname_lastname', then submit\n",
    "- Please also submit a `.html` file in the <u>same file name</u> along with this notebook\n",
    "- Please **DO NOT** submit a `.py` file\n",
    "\n",
    "To export `.html` file:\n",
    "- In Jupyter Notebook\n",
    "    - File -> Download as -> HTML\n",
    "- In Jupyter Lab\n",
    "    - File -> Save and Export Notebook As -> HTML"
   ]
  },
  {
   "cell_type": "markdown",
   "id": "10c85752-bc1d-4ced-bc98-8fc08ecdc8a2",
   "metadata": {},
   "source": [
    "## 0. Data Introduction and Import Packages\n",
    "In the same directory you will find the data file we'll use for this homework, \"manhattan.csv\". This is a sample from StreetEasy describing a subset of rental activities in New York. You are supposed to do some simple data manipulations for this dataset and gain insights along with the data processing and analysis."
   ]
  },
  {
   "cell_type": "code",
   "execution_count": null,
   "id": "e4fad8e3-ef06-46e0-add6-5b9b1407421b",
   "metadata": {},
   "outputs": [],
   "source": [
    "import numpy as np\n",
    "import pandas as pd"
   ]
  },
  {
   "cell_type": "markdown",
   "id": "13c9e6dc-d8fa-4047-a87c-109b460f6539",
   "metadata": {},
   "source": [
    "## 1. Sample Description"
   ]
  },
  {
   "cell_type": "markdown",
   "id": "9a3801eb-e1e4-40db-b560-f0434b2f53cd",
   "metadata": {},
   "source": [
    "**1.1 Load `manhattan.csv` through pandas**"
   ]
  },
  {
   "cell_type": "code",
   "execution_count": null,
   "id": "8df2685d-6f4f-488a-a1ac-fa75c113b9f8",
   "metadata": {},
   "outputs": [],
   "source": [
    "# insert code here"
   ]
  },
  {
   "cell_type": "markdown",
   "id": "1ecdc988-fedb-4954-99f3-6ce888e15e80",
   "metadata": {},
   "source": [
    "**1.2 Check the number of observations, data type, mean, median, 25%, and 75% percentiles.**"
   ]
  },
  {
   "cell_type": "code",
   "execution_count": null,
   "id": "5af6c4cc-6423-437f-b335-bc355d18c1d6",
   "metadata": {},
   "outputs": [],
   "source": [
    "# insert code here"
   ]
  },
  {
   "cell_type": "markdown",
   "id": "8f037587-5b0c-453a-9bd3-d95a98d11ec5",
   "metadata": {},
   "source": [
    "**1.3 Does this dataset contain missing value?**\n",
    "\n",
    "*hint: can use a package that we mentioned in class*"
   ]
  },
  {
   "cell_type": "markdown",
   "id": "e01cfdf9-d5e1-4a9f-b3f7-3a4d28ec7ed9",
   "metadata": {},
   "source": [
    "[Insert answer here]"
   ]
  },
  {
   "cell_type": "code",
   "execution_count": null,
   "id": "5f334c13-f5bb-44bf-b497-a7328f9875e8",
   "metadata": {},
   "outputs": [],
   "source": [
    "# insert code here"
   ]
  },
  {
   "cell_type": "markdown",
   "id": "a9581021-8086-47b9-a29a-b93136304f61",
   "metadata": {},
   "source": [
    "**1.4 Does variable \"rent\" has outliers?**"
   ]
  },
  {
   "cell_type": "markdown",
   "id": "df3c38a2-5801-4f2e-b081-dbd0076f9ccf",
   "metadata": {},
   "source": [
    "[Insert answer here]"
   ]
  },
  {
   "cell_type": "code",
   "execution_count": null,
   "id": "a5d01a6d-41b5-473d-914d-ae3d6a17c571",
   "metadata": {},
   "outputs": [],
   "source": [
    "# insert code here"
   ]
  },
  {
   "cell_type": "markdown",
   "id": "4301d83d-43e2-4db4-9d9d-9bfd4f96420e",
   "metadata": {},
   "source": [
    "**1.5 What about the logarithm of rent?**"
   ]
  },
  {
   "cell_type": "markdown",
   "id": "471af610-7d00-4f53-a3ae-01f0b7ca1532",
   "metadata": {},
   "source": [
    "[Insert answer here]"
   ]
  },
  {
   "cell_type": "code",
   "execution_count": null,
   "id": "6e90a012-aff2-4c60-9369-31f7cf858329",
   "metadata": {},
   "outputs": [],
   "source": [
    "# insert code here"
   ]
  },
  {
   "cell_type": "markdown",
   "id": "b5c6f7e0-1122-4cd9-bf65-5663da43c248",
   "metadata": {},
   "source": [
    "## 2. Multivariate Analysis"
   ]
  },
  {
   "cell_type": "markdown",
   "id": "eabc1b8b-7442-41c4-82e4-dfab6ba32833",
   "metadata": {},
   "source": [
    "**2.1 Calculate the Pearson correlation of all <u>numeric</u> variables. Which of the variable has the highest correlation to rent? What is your explanation?**"
   ]
  },
  {
   "cell_type": "markdown",
   "id": "d8199794-b3ea-442c-ab8b-d91ea2a8b8d6",
   "metadata": {},
   "source": [
    "[Insert answer here]"
   ]
  },
  {
   "cell_type": "code",
   "execution_count": null,
   "id": "6d66d92a-0c3e-4fa0-aa7a-d23723c2b727",
   "metadata": {},
   "outputs": [],
   "source": [
    "# insert code here"
   ]
  },
  {
   "cell_type": "markdown",
   "id": "57ecfb91-828a-487b-ab17-545084ffea83",
   "metadata": {},
   "source": [
    "**2.2 Do a scatter plot between rent and the variable in your answer for the previous question. What do you find?**"
   ]
  },
  {
   "cell_type": "markdown",
   "id": "a9fca169-24bd-41db-a430-a5d1263bffae",
   "metadata": {},
   "source": [
    "[Insert answer here]"
   ]
  },
  {
   "cell_type": "code",
   "execution_count": null,
   "id": "95e090a7-e518-4f8b-bdef-5df9e6324935",
   "metadata": {},
   "outputs": [],
   "source": [
    "# insert code here"
   ]
  },
  {
   "cell_type": "markdown",
   "id": "109c28ee-da58-4346-a5b6-614ec3416ad7",
   "metadata": {},
   "source": [
    "**2.3 Normalize the rent by that variable (through division), call it `norm_rent`, and calculate its correlation with that selected feature. What do you find?**"
   ]
  },
  {
   "cell_type": "markdown",
   "id": "bc0f06c0-8efa-4e53-bfe6-6c102f662844",
   "metadata": {},
   "source": [
    "[Insert answer here]"
   ]
  },
  {
   "cell_type": "code",
   "execution_count": null,
   "id": "36e64bd2-f2a5-4c20-ada9-82dba244327b",
   "metadata": {},
   "outputs": [],
   "source": [
    "# insert code here"
   ]
  },
  {
   "cell_type": "markdown",
   "id": "dbb79398-3c2e-4dee-8238-d7d115acebba",
   "metadata": {},
   "source": [
    "**2.4 Based on the normalized rent, <u>re-do</u> question 2.1 and find the most correlated feature.**"
   ]
  },
  {
   "cell_type": "markdown",
   "id": "2a7b853c-da20-4b40-baa8-46975bda5b41",
   "metadata": {},
   "source": [
    "[Insert answer here]"
   ]
  },
  {
   "cell_type": "code",
   "execution_count": null,
   "id": "3afbe9d5-a22c-4525-9a8f-aa560cdf5a16",
   "metadata": {},
   "outputs": [],
   "source": [
    "# insert code here"
   ]
  },
  {
   "cell_type": "markdown",
   "id": "7aeb9b1a-220f-42f8-84de-2bb712a813da",
   "metadata": {},
   "source": [
    "## 3. Regression Analysis"
   ]
  },
  {
   "cell_type": "markdown",
   "id": "086971ae",
   "metadata": {},
   "source": [
    "**3.1 Do a regression analysis according to the following specification:**\n",
    "\n",
    "$$\n",
    "    \\log(\\text{rent}) \\sim \\text{min_to_subway} + \\log(\\text{building_age_yrs}) + \\log(\\text{size_sqft}) + \\text{no_fee} + \\text{bedrooms} + \\text{bathrooms}\n",
    "$$\n",
    "\n",
    "**Report $\\hat{\\beta}$, standard error, t-statistics, p-value, and $R^2$.**"
   ]
  },
  {
   "cell_type": "markdown",
   "id": "64f1315e-a7cf-4610-ac4b-aa446d2e4460",
   "metadata": {},
   "source": [
    "[Insert answer here]"
   ]
  },
  {
   "cell_type": "code",
   "execution_count": null,
   "id": "5ca79f9e-17aa-4377-9ef1-cb9c7d6af879",
   "metadata": {},
   "outputs": [],
   "source": [
    "# insert code here"
   ]
  },
  {
   "cell_type": "markdown",
   "id": "960d4427",
   "metadata": {},
   "source": [
    "**3.2 How do you interpret the coefficient on $\\log(\\text{size_sqft})$?**"
   ]
  },
  {
   "cell_type": "markdown",
   "id": "0efce827-fa02-492e-8d2d-307923eb5369",
   "metadata": {},
   "source": [
    "[Insert answer here]"
   ]
  },
  {
   "cell_type": "markdown",
   "id": "03e7a15a",
   "metadata": {},
   "source": [
    "**3.3 Remove $\\log(\\text{size_sqft})$ from the independent variables, and <u>re-do</u> the above regression keeping the independent variables fixed. Report the result.**"
   ]
  },
  {
   "cell_type": "code",
   "execution_count": null,
   "id": "f36f8065-0944-46ca-8ea1-faa42aba0e81",
   "metadata": {},
   "outputs": [],
   "source": [
    "# insert code here"
   ]
  },
  {
   "cell_type": "markdown",
   "id": "4ce6c15f",
   "metadata": {},
   "source": [
    "**3.4 Compare the results to the former one. Which $\\hat{\\beta}$ s have different signs or significance levels? What is your interpretation?**"
   ]
  },
  {
   "cell_type": "markdown",
   "id": "3de6ec2f-64c2-4a52-8b96-b1635eceab18",
   "metadata": {},
   "source": [
    "[Insert answer here]"
   ]
  }
 ],
 "metadata": {
  "kernelspec": {
   "display_name": "rea",
   "language": "python",
   "name": "rea"
  },
  "language_info": {
   "codemirror_mode": {
    "name": "ipython",
    "version": 3
   },
   "file_extension": ".py",
   "mimetype": "text/x-python",
   "name": "python",
   "nbconvert_exporter": "python",
   "pygments_lexer": "ipython3",
   "version": "3.8.13"
  }
 },
 "nbformat": 4,
 "nbformat_minor": 5
}
