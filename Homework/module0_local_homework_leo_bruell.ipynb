{
 "cells": [
  {
   "cell_type": "markdown",
   "id": "82e344b9-2c76-42eb-a20f-e37ebeac9ddc",
   "metadata": {},
   "source": [
    "# Module 0: Set Up - Homework\n",
    "## B8474 Real Estate Analytics"
   ]
  },
  {
   "cell_type": "markdown",
   "id": "d17b5080-37aa-4676-a995-ee21c79ece05",
   "metadata": {},
   "source": [
    "**Name:** Leo Bruell"
   ]
  },
  {
   "cell_type": "markdown",
   "id": "58b82de0-d1c4-434b-b69f-0da00d88b4f1",
   "metadata": {},
   "source": [
    "**<u style=\"color:red\">NOTE FOR SUBMISSION</u>**\n",
    "\n",
    "- Please rename the notebook as 'module0_local_homework_fisrtname_lastname', then submit\n",
    "- Please also submit a `.html` file in the <u>same file name</u> along with this notebook\n",
    "- Please **DO NOT** submit a `.py` or any other file type, we might set restriction on Canvas to allow only `.ipynb` and `.html` file upload\n",
    "\n",
    "To export `.html` file:\n",
    "- In Jupyter Notebook\n",
    "    - File -> Download as -> HTML\n",
    "- In Jupyter Lab\n",
    "    - File -> Save and Export Notebook As -> HTML"
   ]
  },
  {
   "cell_type": "markdown",
   "id": "97294ef5-eb10-44aa-939e-da4912dade43",
   "metadata": {},
   "source": [
    "**This homework is designed to make sure that you can run every modules in this course. Please enter your name below and run this entire notebook.**\n",
    "\n",
    "[Insert image on how to run entire notebook]"
   ]
  },
  {
   "cell_type": "code",
   "execution_count": 5,
   "id": "fbc0e697-1cb1-49ab-81cc-e6e155b7be43",
   "metadata": {},
   "outputs": [],
   "source": [
    "# please enter your name below\n",
    "name = \"Leo Bruell\""
   ]
  },
  {
   "cell_type": "code",
   "execution_count": 6,
   "id": "ae517462-b6d4-4a6b-a93f-faf684cbe079",
   "metadata": {
    "jupyter": {
     "source_hidden": true
    },
    "tags": []
   },
   "outputs": [
    {
     "name": "stdout",
     "output_type": "stream",
     "text": [
      "Scroll down to make sure that all cells are successfully executed. You should see Leo Bruell printed out at the very last cell of this notebook\n"
     ]
    }
   ],
   "source": [
    "print(f\"Scroll down to make sure that all cells are successfully executed. \"\n",
    "      f\"You should see {name} printed out at the very last cell of this notebook\")"
   ]
  },
  {
   "cell_type": "code",
   "execution_count": 7,
   "id": "9b0b233f",
   "metadata": {},
   "outputs": [],
   "source": [
    "## install some additional packages for our course in the rea environment\n",
    "# you can also do this in the terminal with the same command (\"pip install package_name\"), but remember to \"conda activate rea\" first):\n",
    "! pip install -q missingno\n",
    "! pip install -q python-Levenshtein\n",
    "! pip install -q more_itertools\n",
    "! pip install -q shap\n",
    "# downgrade urllib3 and requests-toolbelt to avoid errors in importing censusgeocode\n",
    "! pip install -q urllib3==1.26.15 requests-toolbelt==0.10.1   \n",
    "# downgrade to be compatible with python 3.8\n",
    "! pip install -q quo==2022.8"
   ]
  },
  {
   "cell_type": "code",
   "execution_count": 8,
   "id": "cbb7f5ba-f16a-4d16-9339-402a19918f24",
   "metadata": {},
   "outputs": [],
   "source": [
    "# general packages\n",
    "import datetime\n",
    "import json\n",
    "import matplotlib.pyplot as plt\n",
    "import numpy as np\n",
    "import os\n",
    "import pandas as pd\n",
    "import statsmodels.api as sm\n",
    "import time"
   ]
  },
  {
   "cell_type": "code",
   "execution_count": 9,
   "id": "c5743aa9-56f9-4c2a-ab14-77f107d19ff5",
   "metadata": {},
   "outputs": [],
   "source": [
    "# module 1 packages\n",
    "import numpy as np\n",
    "import pandas as pd\n",
    "import matplotlib.pyplot as plt\n",
    "from datetime import datetime\n",
    "import missingno as msno\n",
    "import folium\n",
    "from folium import Marker\n",
    "from folium.plugins import HeatMap\n",
    "import statsmodels.api as sm\n",
    "from typing import List, TypeVar"
   ]
  },
  {
   "cell_type": "code",
   "execution_count": 10,
   "id": "29241376-1442-4048-a8b5-a3d0d83a1576",
   "metadata": {},
   "outputs": [],
   "source": [
    "# module 2 packages\n",
    "import os, sys\n",
    "from adjustText import adjust_text\n",
    "from IPython.display import display, Markdown, Latex, HTML\n",
    "import warnings\n",
    "from scipy.cluster.hierarchy import dendrogram\n",
    "from sklearn.cluster import AgglomerativeClustering\n",
    "from mpl_toolkits.mplot3d import Axes3D\n",
    "import matplotlib.pyplot as plt\n",
    "from adjustText import adjust_text\n",
    "import os\n",
    "import socket\n",
    "import pandas as pd\n",
    "import numpy as np\n",
    "import _pickle as cPickle\n",
    "import itertools\n",
    "import datetime as dt\n",
    "from tqdm import trange\n",
    "import gc\n",
    "import copy\n",
    "import urllib.request\n",
    "from sklearn.cluster import KMeans\n",
    "from pandas.tseries.offsets import DateOffset\n",
    "from pandas.tseries.offsets import MonthEnd\n",
    "import zipfile\n",
    "import requests\n",
    "import ssl\n",
    "import re\n",
    "import matplotlib.pyplot as plt\n",
    "from sklearn.cluster import KMeans\n",
    "from operator import itemgetter\n",
    "import statsmodels.api as sm\n",
    "from statsmodels.regression.rolling import RollingOLS\n",
    "from statsmodels.tsa.stattools import acf as acf_func\n",
    "import scipy\n",
    "import scipy.optimize as opt\n",
    "import matplotlib.ticker as mticker\n",
    "import seaborn as sns\n",
    "from operator import itemgetter\n",
    "import sklearn\n",
    "from statsmodels.iolib.summary2 import summary_col\n",
    "import pandas_datareader\n",
    "import collections"
   ]
  },
  {
   "cell_type": "code",
   "execution_count": 11,
   "id": "2cf87f26-1034-407e-a43c-a82013b06534",
   "metadata": {},
   "outputs": [],
   "source": [
    "# module 3 packages\n",
    "import pandas as pd\n",
    "import numpy as np\n",
    "import socket\n",
    "import _pickle as cPickle\n",
    "import os\n",
    "import copy\n",
    "from dateutil.relativedelta import relativedelta\n",
    "import statsmodels.formula.api as smf\n",
    "import statsmodels.api as sm\n",
    "from sklearn.metrics import confusion_matrix, f1_score\n",
    "from statsmodels.genmod.generalized_linear_model import GLM\n",
    "from patsy import dmatrices\n",
    "import sklearn\n",
    "from sklearn.cluster import KMeans\n",
    "from sklearn.manifold import MDS\n",
    "from sklearn.cluster import AgglomerativeClustering\n",
    "import datetime as dt\n",
    "import matplotlib.ticker as mticker\n",
    "import geopy\n",
    "import json\n",
    "import plotly.express as px\n",
    "import config\n",
    "import matplotlib.pyplot as plt\n",
    "import matplotlib.dates as mdates\n",
    "import pyhdfe\n",
    "import itertools\n",
    "from uszipcode import SearchEngine\n",
    "import us"
   ]
  },
  {
   "cell_type": "code",
   "execution_count": 12,
   "id": "4c9f1515",
   "metadata": {},
   "outputs": [],
   "source": [
    "# module 4 packages\n",
    "import numpy as np\n",
    "import pandas as pd\n",
    "import os\n",
    "import gc\n",
    "import _pickle as cPickle\n",
    "import folium \n",
    "from folium import Marker\n",
    "from folium.plugins import HeatMap\n",
    "import tqdm\n",
    "import geopy\n",
    "import requests\n",
    "import json\n",
    "import time\n",
    "import swifter\n",
    "import censusgeocode as cg\n",
    "import datetime as dt\n",
    "import geopandas as gpd\n",
    "import contextily as ctx\n",
    "import matplotlib.pyplot as plt\n",
    "import geopy.distance\n",
    "import statsmodels.api as sm\n",
    "import branca\n",
    "import scipy\n",
    "from quo import echo \n"
   ]
  },
  {
   "cell_type": "code",
   "execution_count": 13,
   "id": "c2e761db",
   "metadata": {},
   "outputs": [],
   "source": [
    "# module 5 packages\n",
    "from shapely.geometry import Point\n",
    "import os\n",
    "import pandas as pd\n",
    "from tqdm import tqdm\n",
    "import numpy as np\n",
    "import geopandas as gpd\n",
    "from math import radians, cos, sin, asin, sqrt\n",
    "from shapely.ops import unary_union, transform\n",
    "from functools import reduce\n",
    "from sklearn.decomposition import PCA\n",
    "import statsmodels.api as sm\n",
    "from statsmodels.formula.api import ols\n",
    "import time\n",
    "from shapely.geometry import Point\n",
    "import re\n",
    "import warnings\n",
    "warnings.filterwarnings('ignore')\n",
    "import matplotlib.pyplot as plt\n",
    "from statsmodels.iolib.summary2 import summary_col\n",
    "from sklearn import preprocessing"
   ]
  },
  {
   "cell_type": "code",
   "execution_count": 14,
   "id": "323dce6d-198f-4059-ad99-89dfd514591e",
   "metadata": {},
   "outputs": [],
   "source": [
    "# module 6~7 packages\n",
    "import os\n",
    "from multiprocessing.pool import ThreadPool\n",
    "import multiprocessing as mp\n",
    "import socket\n",
    "import _pickle as cPickle\n",
    "import itertools\n",
    "import more_itertools\n",
    "import calendar\n",
    "from sklearn.model_selection import GridSearchCV\n",
    "import datetime as dt\n",
    "import re\n",
    "import tqdm\n",
    "import gc\n",
    "from dateutil.relativedelta import relativedelta\n",
    "import urllib.request\n",
    "import statsmodels.api as sm\n",
    "from statsmodels.formula.api import ols\n",
    "import pyhdfe\n",
    "from pandas.tseries.offsets import DateOffset, MonthEnd\n",
    "import us\n",
    "import math\n",
    "import copy\n",
    "import zipfile\n",
    "import random\n",
    "import requests\n",
    "import ssl\n",
    "import random\n",
    "from sklearn import tree\n",
    "import sklearn\n",
    "from sklearn.ensemble import RandomForestRegressor\n",
    "import matplotlib.pyplot as plt\n",
    "import matplotlib.ticker as mticker\n",
    "import matplotlib.gridspec as gridspec\n",
    "from statsmodels.tsa.arima.model import ARIMA\n",
    "import numpy as np\n",
    "import pandas as pd\n",
    "import seaborn\n",
    "from scipy import stats\n",
    "import time\n",
    "import calendar\n",
    "import plotly.graph_objects as go\n",
    "import plotly.figure_factory as ff\n",
    "import shap\n",
    "import plotly.io as pio\n",
    "import plotly.offline as pyo\n",
    "import plotly.graph_objs as go\n",
    "from statsmodels.iolib.summary2 import summary_col\n",
    "from sklearn.neural_network import MLPRegressor\n",
    "from IPython.display import Markdown, display\n",
    "from sklearn.linear_model import LogisticRegression\n",
    "import pandas_datareader"
   ]
  },
  {
   "cell_type": "code",
   "execution_count": 16,
   "id": "3cd11bc8-56a9-41e5-8bad-cca108b81295",
   "metadata": {
    "jupyter": {
     "source_hidden": true
    },
    "tags": []
   },
   "outputs": [
    {
     "name": "stdout",
     "output_type": "stream",
     "text": [
      "Welcome to the class, Leo Bruell!\n"
     ]
    }
   ],
   "source": [
    "print(f\"Welcome to the class, {name}!\")"
   ]
  }
 ],
 "metadata": {
  "kernelspec": {
   "display_name": "rea",
   "language": "python",
   "name": "python3"
  },
  "language_info": {
   "codemirror_mode": {
    "name": "ipython",
    "version": 3
   },
   "file_extension": ".py",
   "mimetype": "text/x-python",
   "name": "python",
   "nbconvert_exporter": "python",
   "pygments_lexer": "ipython3",
   "version": "3.10.12"
  }
 },
 "nbformat": 4,
 "nbformat_minor": 5
}
