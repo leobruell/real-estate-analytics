{
 "cells": [
  {
   "cell_type": "markdown",
   "id": "815970cf-4b10-4414-8842-8090944437b8",
   "metadata": {},
   "source": [
    "# Module 0: Python Introduction"
   ]
  },
  {
   "cell_type": "markdown",
   "id": "1bb80bbf-3b64-4edb-ada9-c700fb3d36a5",
   "metadata": {},
   "source": [
    "**This file is a very incomplete refresher on some Python Basics.** There are many resources online to learn Python. Again, this is not a coding class whose primary goal is to teach you Python, but a class that uses Python as a tool. \n"
   ]
  },
  {
   "cell_type": "markdown",
   "id": "9afa4f3a",
   "metadata": {},
   "source": [
    "## 1. Syntax Basics\n",
    "The syntax in Python is direct and easy to understand. Below are some examples of the basic data structure in Python. You can try these out in a blank jupyter notebook:"
   ]
  },
  {
   "cell_type": "code",
   "execution_count": null,
   "id": "23d20682",
   "metadata": {},
   "outputs": [
    {
     "name": "stdout",
     "output_type": "stream",
     "text": [
      "Hello World!\n"
     ]
    }
   ],
   "source": [
    "print(\"Hello World!\")  # print out function"
   ]
  },
  {
   "cell_type": "code",
   "execution_count": null,
   "id": "17525328",
   "metadata": {},
   "outputs": [
    {
     "data": {
      "text/plain": [
       "6"
      ]
     },
     "metadata": {},
     "output_type": "display_data"
    }
   ],
   "source": [
    "1 + 2 + 3  # add numbers"
   ]
  },
  {
   "cell_type": "code",
   "execution_count": null,
   "id": "3802e4f0",
   "metadata": {},
   "outputs": [
    {
     "name": "stdout",
     "output_type": "stream",
     "text": [
      "0\n",
      "1\n",
      "2\n",
      "3\n",
      "4\n",
      "5\n",
      "6\n",
      "7\n",
      "8\n",
      "9\n"
     ]
    }
   ],
   "source": [
    "for i in range(10):  # doing loop\n",
    "    print(i)"
   ]
  },
  {
   "cell_type": "code",
   "execution_count": null,
   "id": "59011a78",
   "metadata": {},
   "outputs": [
    {
     "data": {
      "text/plain": [
       "'Hello World!'"
      ]
     },
     "metadata": {},
     "output_type": "display_data"
    }
   ],
   "source": [
    "x = \"Hello\" + \" \" + \"World\" + \"!\"  # define and concatenate strings\n",
    "x"
   ]
  },
  {
   "cell_type": "code",
   "execution_count": null,
   "id": "b746eb16",
   "metadata": {},
   "outputs": [
    {
     "data": {
      "text/plain": [
       "['Hell', ' W', 'rld!']"
      ]
     },
     "metadata": {},
     "output_type": "display_data"
    }
   ],
   "source": [
    "x.split(\"o\")  # cut the string by \"o\""
   ]
  },
  {
   "cell_type": "code",
   "execution_count": null,
   "id": "ab6c3984",
   "metadata": {},
   "outputs": [
    {
     "data": {
      "text/plain": [
       "'real estate'"
      ]
     },
     "metadata": {},
     "output_type": "display_data"
    }
   ],
   "source": [
    "\" real estate  \".strip()  # remove space at the start (head) and end (tail) of the string"
   ]
  },
  {
   "cell_type": "markdown",
   "id": "c3d8ba70",
   "metadata": {},
   "source": [
    "## 2. The Anonymous Function lambda\n",
    "\n",
    "The `lambda` function is popular in Python because of its simplicity. When you need a place where the input is a function but you don't need a name to call that function, `lambda` is all you need. \n",
    "\n",
    "These two statements are identical:\n",
    "\n",
    "```python\n",
    "# method one: define a function explicitly with a name\n",
    "def add_two_numbers(x, y):\n",
    "    return x + y\n",
    "\n",
    "# method two: define a function using lambda\n",
    "add_two_numbers = lambda x, y: x + y\n",
    "```\n",
    "\n",
    "Here is another example:\n",
    "\n",
    "```python\n",
    "# method one: define a function which maps x to x + 1\n",
    "def add_one(x):\n",
    "    return add_two_numbers(x, 1)\n",
    "\n",
    "# method two: lambda\n",
    "add_one = lambda x: add_two_numbers(x, 1)\n",
    "```\n",
    "\n",
    "With `lambda`, you can easily adjust numbers of inputs by fixing some of them. This may also remind you of the partial derivatives:\n",
    "\n",
    "```python\n",
    "original_function = lambda x, y: np.power(x, 3) + x * np.power(y, 2) + x / y - np.sqrt(x)\n",
    "\n",
    "def derivative(func, x0, delta=0.01):\n",
    "    '''calculate the derivative of func at x0 numerically with delta'''\n",
    "    return (func(x0 + delta) - func(x0 - delta)) / delta / 2\n",
    "```\n",
    "\n",
    "If you want to calculate the partial derivative of `original_function` w.r.t. `y` when `x` is fixed, you could use `lambda` to help:\n",
    "```python\n",
    "ys = np.arange(5, 6, 0.01)  # generate a pack of numbers from 5 to 6 with step size 0.01\n",
    "x_fixed = 10\n",
    "\n",
    "# use lambda as the first argument (func) for function `derivative`\n",
    "derivatives = [derivative(lambda y: original_function(x_fixed, y), y) for y in ys]\n",
    "```"
   ]
  },
  {
   "cell_type": "markdown",
   "id": "e1874c11",
   "metadata": {},
   "source": [
    "## 3. Scientific Computing With NumPy\n",
    "\n",
    "To conduct scientific computation, a powerful package, [NumPy](https://numpy.org/), is available. Here are some examples to help you understand the basic usage of NumPy."
   ]
  },
  {
   "cell_type": "code",
   "execution_count": null,
   "id": "dcf56035",
   "metadata": {},
   "outputs": [
    {
     "name": "stdout",
     "output_type": "stream",
     "text": [
      "\n",
      "This is x: \n",
      " [1. 1. 1. 1. 1.]\n",
      "\n",
      "This is y: \n",
      " [[4.63657071 4.1571001  4.45117085 4.5471641  3.43995896]\n",
      " [3.8932531  4.20553194 3.55473942 3.49193479 5.43409597]\n",
      " [4.02373813 4.35155406 3.70249128 5.53659936 2.73536869]\n",
      " [4.73048213 4.31688768 4.71588022 3.56954387 3.54339158]]\n",
      "\n",
      "This is z: \n",
      " [[21.23196472]\n",
      " [20.57955522]\n",
      " [20.34975152]\n",
      " [20.87618547]]\n",
      "\n",
      "This is a: \n",
      " [[91.1022101  85.92838063 87.81199529 89.29056097]\n",
      " [85.92838063 87.20309849 81.32512212 85.05524283]\n",
      " [87.81199529 81.32512212 86.97110729 84.73551347]\n",
      " [89.29056097 85.05524283 84.73551347 88.54977394]]\n",
      "\n",
      "The rank of matrix a is:  4\n",
      "\n",
      "Here's the inverse of matrix a: \n",
      " [[ 9.45193381 -0.32336456 -3.80591124 -5.5784307 ]\n",
      " [-0.32336456  0.19275775  0.13225526  0.01436061]\n",
      " [-3.80591124  0.13225526  1.70241704  2.08162886]\n",
      " [-5.5784307   0.01436061  2.08162886  3.63063458]]\n"
     ]
    }
   ],
   "source": [
    "# import package\n",
    "import numpy as np\n",
    "\n",
    "# create a one-dim vector of zeros\n",
    "x = np.zeros(5)\n",
    "\n",
    "# add one to each element of the vector\n",
    "x += 1\n",
    "# display result, \\n means starting a new line\n",
    "print(\"\\nThis is x: \\n\",x)\n",
    "\n",
    "# generate a (4, 5) matrix of i.i.d. normal random variables with mean loc and standard deviation scale\n",
    "y = np.random.normal(loc=4.2, scale=0.7, size=(4, 5))\n",
    "print(\"\\nThis is y: \\n\",y)\n",
    "\n",
    "# make x from (5,) to (5, 1) and do matrix multiplication y*x\n",
    "z = y.dot(x.reshape(-1, 1))\n",
    "print(\"\\nThis is z: \\n\",z)\n",
    "\n",
    "# transpose y and compute y*y'\n",
    "a = y.dot(y.T)\n",
    "print(\"\\nThis is a: \\n\",a)\n",
    "\n",
    "# compute the rank of matrix a\n",
    "print(\"\\nThe rank of matrix a is: \", np.linalg.matrix_rank(a))\n",
    "\n",
    "# compute the inverse of matrix a\n",
    "print(\"\\nHere's the inverse of matrix a: \\n\", np.linalg.inv(a))  "
   ]
  },
  {
   "cell_type": "markdown",
   "id": "d65561be",
   "metadata": {},
   "source": [
    "## 4. Handling Data With Pandas\n",
    "\n",
    "[Pandas](https://pandas.pydata.org/) creates tables in Python that are easier to manipulate than numbers. Note that the version of Pandas matters, so please keep your Pandas up-to-date. If you run into errors, they may be caused by depreciated functions/methods."
   ]
  },
  {
   "cell_type": "code",
   "execution_count": null,
   "id": "15c20d94",
   "metadata": {},
   "outputs": [
    {
     "data": {
      "text/html": [
       "<div>\n",
       "<style scoped>\n",
       "    .dataframe tbody tr th:only-of-type {\n",
       "        vertical-align: middle;\n",
       "    }\n",
       "\n",
       "    .dataframe tbody tr th {\n",
       "        vertical-align: top;\n",
       "    }\n",
       "\n",
       "    .dataframe thead th {\n",
       "        text-align: right;\n",
       "    }\n",
       "</style>\n",
       "<table border=\"1\" class=\"dataframe\">\n",
       "  <thead>\n",
       "    <tr style=\"text-align: right;\">\n",
       "      <th></th>\n",
       "      <th>val</th>\n",
       "      <th>tag</th>\n",
       "      <th>val_lead</th>\n",
       "      <th>val_lag</th>\n",
       "    </tr>\n",
       "  </thead>\n",
       "  <tbody>\n",
       "    <tr>\n",
       "      <th>0</th>\n",
       "      <td>4.052580</td>\n",
       "      <td>a</td>\n",
       "      <td>NaN</td>\n",
       "      <td>5.331946</td>\n",
       "    </tr>\n",
       "    <tr>\n",
       "      <th>1</th>\n",
       "      <td>5.331946</td>\n",
       "      <td>b</td>\n",
       "      <td>4.052580</td>\n",
       "      <td>5.016573</td>\n",
       "    </tr>\n",
       "    <tr>\n",
       "      <th>2</th>\n",
       "      <td>5.016573</td>\n",
       "      <td>a</td>\n",
       "      <td>5.331946</td>\n",
       "      <td>3.299166</td>\n",
       "    </tr>\n",
       "    <tr>\n",
       "      <th>3</th>\n",
       "      <td>3.299166</td>\n",
       "      <td>b</td>\n",
       "      <td>5.016573</td>\n",
       "      <td>NaN</td>\n",
       "    </tr>\n",
       "  </tbody>\n",
       "</table>\n",
       "</div>"
      ],
      "text/plain": [
       "        val tag  val_lead   val_lag\n",
       "0  4.052580   a       NaN  5.331946\n",
       "1  5.331946   b  4.052580  5.016573\n",
       "2  5.016573   a  5.331946  3.299166\n",
       "3  3.299166   b  5.016573       NaN"
      ]
     },
     "metadata": {},
     "output_type": "display_data"
    }
   ],
   "source": [
    "import pandas as pd\n",
    "\n",
    "# define a blank dataframe\n",
    "df = pd.DataFrame()\n",
    "\n",
    "# define the first column val and populate it with normally distributed random numbers\n",
    "df[\"val\"] = np.random.normal(loc=4.2, scale=0.7, size=(4,))\n",
    "\n",
    "# define another column tag and populate it with letters a and b\n",
    "df[\"tag\"] = [\"a\", \"b\", \"a\", \"b\"]\n",
    "\n",
    "# define two more columns that are shifted versions of val by one period (lead and lag)\n",
    "df[\"val_lead\"] = df[\"val\"].shift(1)\n",
    "df[\"val_lag\"] = df[\"val\"].shift(-1)\n",
    "\n",
    "# display the result\n",
    "df"
   ]
  },
  {
   "cell_type": "code",
   "execution_count": null,
   "id": "8c46183c",
   "metadata": {},
   "outputs": [
    {
     "data": {
      "text/html": [
       "<div>\n",
       "<style scoped>\n",
       "    .dataframe tbody tr th:only-of-type {\n",
       "        vertical-align: middle;\n",
       "    }\n",
       "\n",
       "    .dataframe tbody tr th {\n",
       "        vertical-align: top;\n",
       "    }\n",
       "\n",
       "    .dataframe thead th {\n",
       "        text-align: right;\n",
       "    }\n",
       "</style>\n",
       "<table border=\"1\" class=\"dataframe\">\n",
       "  <thead>\n",
       "    <tr style=\"text-align: right;\">\n",
       "      <th></th>\n",
       "      <th>val</th>\n",
       "      <th>val_lead</th>\n",
       "      <th>val_lag</th>\n",
       "    </tr>\n",
       "    <tr>\n",
       "      <th>tag</th>\n",
       "      <th></th>\n",
       "      <th></th>\n",
       "      <th></th>\n",
       "    </tr>\n",
       "  </thead>\n",
       "  <tbody>\n",
       "    <tr>\n",
       "      <th>a</th>\n",
       "      <td>4.052580</td>\n",
       "      <td>5.331946</td>\n",
       "      <td>3.299166</td>\n",
       "    </tr>\n",
       "    <tr>\n",
       "      <th>b</th>\n",
       "      <td>3.299166</td>\n",
       "      <td>4.052580</td>\n",
       "      <td>5.016573</td>\n",
       "    </tr>\n",
       "  </tbody>\n",
       "</table>\n",
       "</div>"
      ],
      "text/plain": [
       "          val  val_lead   val_lag\n",
       "tag                              \n",
       "a    4.052580  5.331946  3.299166\n",
       "b    3.299166  4.052580  5.016573"
      ]
     },
     "metadata": {},
     "output_type": "display_data"
    }
   ],
   "source": [
    "# sort the table by the variable tag using groupby and report the min\n",
    "df.groupby(\"tag\").min()\n",
    "# note that we ignore the NaN when computing the minimum "
   ]
  },
  {
   "cell_type": "code",
   "execution_count": null,
   "id": "fb7c521a",
   "metadata": {},
   "outputs": [
    {
     "data": {
      "text/html": [
       "<div>\n",
       "<style scoped>\n",
       "    .dataframe tbody tr th:only-of-type {\n",
       "        vertical-align: middle;\n",
       "    }\n",
       "\n",
       "    .dataframe tbody tr th {\n",
       "        vertical-align: top;\n",
       "    }\n",
       "\n",
       "    .dataframe thead th {\n",
       "        text-align: right;\n",
       "    }\n",
       "</style>\n",
       "<table border=\"1\" class=\"dataframe\">\n",
       "  <thead>\n",
       "    <tr style=\"text-align: right;\">\n",
       "      <th></th>\n",
       "      <th>val</th>\n",
       "      <th>val_lead</th>\n",
       "      <th>val_lag</th>\n",
       "    </tr>\n",
       "    <tr>\n",
       "      <th>tag</th>\n",
       "      <th></th>\n",
       "      <th></th>\n",
       "      <th></th>\n",
       "    </tr>\n",
       "  </thead>\n",
       "  <tbody>\n",
       "    <tr>\n",
       "      <th>a</th>\n",
       "      <td>4.534576</td>\n",
       "      <td>5.331946</td>\n",
       "      <td>4.315556</td>\n",
       "    </tr>\n",
       "    <tr>\n",
       "      <th>b</th>\n",
       "      <td>4.315556</td>\n",
       "      <td>4.534576</td>\n",
       "      <td>5.016573</td>\n",
       "    </tr>\n",
       "  </tbody>\n",
       "</table>\n",
       "</div>"
      ],
      "text/plain": [
       "          val  val_lead   val_lag\n",
       "tag                              \n",
       "a    4.534576  5.331946  4.315556\n",
       "b    4.315556  4.534576  5.016573"
      ]
     },
     "metadata": {},
     "output_type": "display_data"
    }
   ],
   "source": [
    "# sort the table by the variable tag using groupby and report the mean\n",
    "df.groupby(\"tag\").mean()"
   ]
  },
  {
   "cell_type": "code",
   "execution_count": null,
   "id": "db935bb3",
   "metadata": {},
   "outputs": [
    {
     "data": {
      "text/html": [
       "<div>\n",
       "<style scoped>\n",
       "    .dataframe tbody tr th:only-of-type {\n",
       "        vertical-align: middle;\n",
       "    }\n",
       "\n",
       "    .dataframe tbody tr th {\n",
       "        vertical-align: top;\n",
       "    }\n",
       "\n",
       "    .dataframe thead th {\n",
       "        text-align: right;\n",
       "    }\n",
       "</style>\n",
       "<table border=\"1\" class=\"dataframe\">\n",
       "  <thead>\n",
       "    <tr style=\"text-align: right;\">\n",
       "      <th></th>\n",
       "      <th>val</th>\n",
       "      <th>tag</th>\n",
       "      <th>val_lead</th>\n",
       "      <th>val_lag</th>\n",
       "    </tr>\n",
       "  </thead>\n",
       "  <tbody>\n",
       "    <tr>\n",
       "      <th>0</th>\n",
       "      <td>4.052580</td>\n",
       "      <td>a</td>\n",
       "      <td>2.200000</td>\n",
       "      <td>5.331946</td>\n",
       "    </tr>\n",
       "    <tr>\n",
       "      <th>1</th>\n",
       "      <td>5.331946</td>\n",
       "      <td>b</td>\n",
       "      <td>4.052580</td>\n",
       "      <td>5.016573</td>\n",
       "    </tr>\n",
       "    <tr>\n",
       "      <th>2</th>\n",
       "      <td>5.016573</td>\n",
       "      <td>a</td>\n",
       "      <td>5.331946</td>\n",
       "      <td>3.299166</td>\n",
       "    </tr>\n",
       "    <tr>\n",
       "      <th>3</th>\n",
       "      <td>3.299166</td>\n",
       "      <td>b</td>\n",
       "      <td>5.016573</td>\n",
       "      <td>NaN</td>\n",
       "    </tr>\n",
       "  </tbody>\n",
       "</table>\n",
       "</div>"
      ],
      "text/plain": [
       "        val tag  val_lead   val_lag\n",
       "0  4.052580   a  2.200000  5.331946\n",
       "1  5.331946   b  4.052580  5.016573\n",
       "2  5.016573   a  5.331946  3.299166\n",
       "3  3.299166   b  5.016573       NaN"
      ]
     },
     "metadata": {},
     "output_type": "display_data"
    }
   ],
   "source": [
    "# fill in the NaN using fillna, and replace the original column\n",
    "df[\"val_lead\"].fillna(2.2, inplace=True)\n",
    "\n",
    "df"
   ]
  },
  {
   "cell_type": "code",
   "execution_count": null,
   "id": "000a224c",
   "metadata": {},
   "outputs": [
    {
     "data": {
      "text/html": [
       "<div>\n",
       "<style scoped>\n",
       "    .dataframe tbody tr th:only-of-type {\n",
       "        vertical-align: middle;\n",
       "    }\n",
       "\n",
       "    .dataframe tbody tr th {\n",
       "        vertical-align: top;\n",
       "    }\n",
       "\n",
       "    .dataframe thead th {\n",
       "        text-align: right;\n",
       "    }\n",
       "</style>\n",
       "<table border=\"1\" class=\"dataframe\">\n",
       "  <thead>\n",
       "    <tr style=\"text-align: right;\">\n",
       "      <th></th>\n",
       "      <th>val</th>\n",
       "      <th>val_lead</th>\n",
       "      <th>val_lag</th>\n",
       "    </tr>\n",
       "    <tr>\n",
       "      <th>tag</th>\n",
       "      <th></th>\n",
       "      <th></th>\n",
       "      <th></th>\n",
       "    </tr>\n",
       "  </thead>\n",
       "  <tbody>\n",
       "    <tr>\n",
       "      <th>a</th>\n",
       "      <td>4.052580</td>\n",
       "      <td>2.20000</td>\n",
       "      <td>5.331946</td>\n",
       "    </tr>\n",
       "    <tr>\n",
       "      <th>b</th>\n",
       "      <td>5.331946</td>\n",
       "      <td>4.05258</td>\n",
       "      <td>5.016573</td>\n",
       "    </tr>\n",
       "  </tbody>\n",
       "</table>\n",
       "</div>"
      ],
      "text/plain": [
       "          val  val_lead   val_lag\n",
       "tag                              \n",
       "a    4.052580   2.20000  5.331946\n",
       "b    5.331946   4.05258  5.016573"
      ]
     },
     "metadata": {},
     "output_type": "display_data"
    }
   ],
   "source": [
    "# groupby and report the first element\n",
    "df.groupby(\"tag\").first()"
   ]
  },
  {
   "cell_type": "code",
   "execution_count": null,
   "id": "0cca0967",
   "metadata": {},
   "outputs": [
    {
     "data": {
      "text/plain": [
       "0      9.025013\n",
       "1     57.545715\n",
       "2    206.840196\n",
       "3    150.893247\n",
       "Name: val_lead, dtype: float64"
      ]
     },
     "metadata": {},
     "output_type": "display_data"
    }
   ],
   "source": [
    "# use \".apply\" to exponentiate the val_lead column\n",
    "# this creates a new column in memory and outputs the result but does not overwrite the original column\n",
    "df[\"val_lead\"].apply(np.exp)"
   ]
  },
  {
   "cell_type": "code",
   "execution_count": null,
   "id": "a8d8882c",
   "metadata": {},
   "outputs": [
    {
     "data": {
      "text/plain": [
       "0    0.3667\n",
       "1    0.6754\n",
       "2    0.8887\n",
       "3    0.8361\n",
       "Name: val_lead, dtype: float64"
      ]
     },
     "metadata": {},
     "output_type": "display_data"
    }
   ],
   "source": [
    "# use apply together with lambda\n",
    "df[\"val_lead\"].apply(lambda x: np.around(x / 6, 4))  # divide by 6 and keep at most 4 decimals"
   ]
  },
  {
   "cell_type": "code",
   "execution_count": null,
   "id": "5ac2204b",
   "metadata": {},
   "outputs": [],
   "source": [
    "# merge two dataframes\n",
    "# first define two dfs\n",
    "left = pd.DataFrame(\n",
    "    {\n",
    "        \"key\": [\"K0\", \"K1\", \"K2\", \"K3\"],\n",
    "        \"A\": [\"A0\", \"A1\", \"A2\", \"A3\"],\n",
    "        \"B\": [\"B0\", \"B1\", \"B2\", \"B3\"],\n",
    "    }\n",
    ")\n",
    "right = pd.DataFrame(\n",
    "    {\n",
    "        \"key\": [\"K0\", \"K1\", \"K2\", \"K3\"],\n",
    "        \"C\": [\"C0\", \"C1\", \"C2\", \"C3\"],\n",
    "        \"D\": [\"D0\", \"D1\", \"D2\", \"D3\"],\n",
    "    }\n",
    ")\n"
   ]
  },
  {
   "cell_type": "code",
   "execution_count": null,
   "id": "7a48c52f",
   "metadata": {},
   "outputs": [
    {
     "data": {
      "text/html": [
       "<div>\n",
       "<style scoped>\n",
       "    .dataframe tbody tr th:only-of-type {\n",
       "        vertical-align: middle;\n",
       "    }\n",
       "\n",
       "    .dataframe tbody tr th {\n",
       "        vertical-align: top;\n",
       "    }\n",
       "\n",
       "    .dataframe thead th {\n",
       "        text-align: right;\n",
       "    }\n",
       "</style>\n",
       "<table border=\"1\" class=\"dataframe\">\n",
       "  <thead>\n",
       "    <tr style=\"text-align: right;\">\n",
       "      <th></th>\n",
       "      <th>key</th>\n",
       "      <th>A</th>\n",
       "      <th>B</th>\n",
       "    </tr>\n",
       "  </thead>\n",
       "  <tbody>\n",
       "    <tr>\n",
       "      <th>0</th>\n",
       "      <td>K0</td>\n",
       "      <td>A0</td>\n",
       "      <td>B0</td>\n",
       "    </tr>\n",
       "    <tr>\n",
       "      <th>1</th>\n",
       "      <td>K1</td>\n",
       "      <td>A1</td>\n",
       "      <td>B1</td>\n",
       "    </tr>\n",
       "    <tr>\n",
       "      <th>2</th>\n",
       "      <td>K2</td>\n",
       "      <td>A2</td>\n",
       "      <td>B2</td>\n",
       "    </tr>\n",
       "    <tr>\n",
       "      <th>3</th>\n",
       "      <td>K3</td>\n",
       "      <td>A3</td>\n",
       "      <td>B3</td>\n",
       "    </tr>\n",
       "  </tbody>\n",
       "</table>\n",
       "</div>"
      ],
      "text/plain": [
       "  key   A   B\n",
       "0  K0  A0  B0\n",
       "1  K1  A1  B1\n",
       "2  K2  A2  B2\n",
       "3  K3  A3  B3"
      ]
     },
     "metadata": {},
     "output_type": "display_data"
    }
   ],
   "source": [
    "left"
   ]
  },
  {
   "cell_type": "code",
   "execution_count": null,
   "id": "d2555632",
   "metadata": {},
   "outputs": [
    {
     "data": {
      "text/html": [
       "<div>\n",
       "<style scoped>\n",
       "    .dataframe tbody tr th:only-of-type {\n",
       "        vertical-align: middle;\n",
       "    }\n",
       "\n",
       "    .dataframe tbody tr th {\n",
       "        vertical-align: top;\n",
       "    }\n",
       "\n",
       "    .dataframe thead th {\n",
       "        text-align: right;\n",
       "    }\n",
       "</style>\n",
       "<table border=\"1\" class=\"dataframe\">\n",
       "  <thead>\n",
       "    <tr style=\"text-align: right;\">\n",
       "      <th></th>\n",
       "      <th>key</th>\n",
       "      <th>C</th>\n",
       "      <th>D</th>\n",
       "    </tr>\n",
       "  </thead>\n",
       "  <tbody>\n",
       "    <tr>\n",
       "      <th>0</th>\n",
       "      <td>K0</td>\n",
       "      <td>C0</td>\n",
       "      <td>D0</td>\n",
       "    </tr>\n",
       "    <tr>\n",
       "      <th>1</th>\n",
       "      <td>K1</td>\n",
       "      <td>C1</td>\n",
       "      <td>D1</td>\n",
       "    </tr>\n",
       "    <tr>\n",
       "      <th>2</th>\n",
       "      <td>K2</td>\n",
       "      <td>C2</td>\n",
       "      <td>D2</td>\n",
       "    </tr>\n",
       "    <tr>\n",
       "      <th>3</th>\n",
       "      <td>K3</td>\n",
       "      <td>C3</td>\n",
       "      <td>D3</td>\n",
       "    </tr>\n",
       "  </tbody>\n",
       "</table>\n",
       "</div>"
      ],
      "text/plain": [
       "  key   C   D\n",
       "0  K0  C0  D0\n",
       "1  K1  C1  D1\n",
       "2  K2  C2  D2\n",
       "3  K3  C3  D3"
      ]
     },
     "metadata": {},
     "output_type": "display_data"
    }
   ],
   "source": [
    "right"
   ]
  },
  {
   "cell_type": "code",
   "execution_count": null,
   "id": "39e1098b",
   "metadata": {},
   "outputs": [
    {
     "data": {
      "text/html": [
       "<div>\n",
       "<style scoped>\n",
       "    .dataframe tbody tr th:only-of-type {\n",
       "        vertical-align: middle;\n",
       "    }\n",
       "\n",
       "    .dataframe tbody tr th {\n",
       "        vertical-align: top;\n",
       "    }\n",
       "\n",
       "    .dataframe thead th {\n",
       "        text-align: right;\n",
       "    }\n",
       "</style>\n",
       "<table border=\"1\" class=\"dataframe\">\n",
       "  <thead>\n",
       "    <tr style=\"text-align: right;\">\n",
       "      <th></th>\n",
       "      <th>key</th>\n",
       "      <th>A</th>\n",
       "      <th>B</th>\n",
       "      <th>C</th>\n",
       "      <th>D</th>\n",
       "    </tr>\n",
       "  </thead>\n",
       "  <tbody>\n",
       "    <tr>\n",
       "      <th>0</th>\n",
       "      <td>K0</td>\n",
       "      <td>A0</td>\n",
       "      <td>B0</td>\n",
       "      <td>C0</td>\n",
       "      <td>D0</td>\n",
       "    </tr>\n",
       "    <tr>\n",
       "      <th>1</th>\n",
       "      <td>K1</td>\n",
       "      <td>A1</td>\n",
       "      <td>B1</td>\n",
       "      <td>C1</td>\n",
       "      <td>D1</td>\n",
       "    </tr>\n",
       "    <tr>\n",
       "      <th>2</th>\n",
       "      <td>K2</td>\n",
       "      <td>A2</td>\n",
       "      <td>B2</td>\n",
       "      <td>C2</td>\n",
       "      <td>D2</td>\n",
       "    </tr>\n",
       "    <tr>\n",
       "      <th>3</th>\n",
       "      <td>K3</td>\n",
       "      <td>A3</td>\n",
       "      <td>B3</td>\n",
       "      <td>C3</td>\n",
       "      <td>D3</td>\n",
       "    </tr>\n",
       "  </tbody>\n",
       "</table>\n",
       "</div>"
      ],
      "text/plain": [
       "  key   A   B   C   D\n",
       "0  K0  A0  B0  C0  D0\n",
       "1  K1  A1  B1  C1  D1\n",
       "2  K2  A2  B2  C2  D2\n",
       "3  K3  A3  B3  C3  D3"
      ]
     },
     "metadata": {},
     "output_type": "display_data"
    }
   ],
   "source": [
    "# merge by \"key\"\n",
    "pd.merge(left, right, on=\"key\")"
   ]
  },
  {
   "cell_type": "markdown",
   "id": "d8792c80",
   "metadata": {},
   "source": [
    "## 5. Saving Python Object Using Pickle\n",
    "\n",
    "[Pickle](https://docs.python.org/3/library/pickle.html) is the most common and convenient way to save any Python object to a file. It retains the data structure between what you saved (dump) and when you load that file again. Even though saving a data frame in excel format makes it easy to visualize and view the data, the next time you open the file, pandas may guess the wrong data type for some column because the data type is not specified in an excel file. With pickle, you avoid this. The file you reopen will be idential to the one you saved and all data types will be preserved. "
   ]
  },
  {
   "cell_type": "code",
   "execution_count": null,
   "id": "b6477442",
   "metadata": {},
   "outputs": [
    {
     "data": {
      "text/plain": [
       "{'a': [1, 9, 10], 'b': 'key', 'c': {'d': 5, 'e': ['real', 'estate']}}"
      ]
     },
     "metadata": {},
     "output_type": "display_data"
    }
   ],
   "source": [
    "import pickle  # import the package\n",
    "\n",
    "# define a dictionary which you want to save to a file\n",
    "dic = {\"a\": [1, 9, 10], \"b\": \"key\", \"c\":{\"d\": 5, \"e\": [\"real\", \"estate\"]}}  \n",
    "\n",
    "# check the dictionary (a is a list, b is a string, and c is a dictionary itself with keys d and e)\n",
    "dic"
   ]
  },
  {
   "cell_type": "code",
   "execution_count": null,
   "id": "9232e93f",
   "metadata": {},
   "outputs": [
    {
     "data": {
      "text/plain": [
       "{'d': 5, 'e': ['real', 'estate']}"
      ]
     },
     "metadata": {},
     "output_type": "display_data"
    }
   ],
   "source": [
    "dic[\"c\"]"
   ]
  },
  {
   "cell_type": "code",
   "execution_count": null,
   "id": "49437c60",
   "metadata": {},
   "outputs": [
    {
     "data": {
      "text/plain": [
       "{'a': [1, 9, 10], 'b': 'key', 'c': {'d': 5, 'e': ['real', 'estate']}}"
      ]
     },
     "metadata": {},
     "output_type": "display_data"
    }
   ],
   "source": [
    "# save the dictionary dic to a pickle file\n",
    "with open(\"save_temp.pkl\", \"wb\") as f:  # \"wb\" means write-in-byte mode\n",
    "    pickle.dump(dic, f)  # dump to file\n",
    "\n",
    "# load the dictionary saved in this pickle file\n",
    "with open(\"save_temp.pkl\", \"rb\") as f:  # \"rb\" means read-in-byte mode\n",
    "    dic_loaded = pickle.load(f)\n",
    "\n",
    "# check it again\n",
    "dic_loaded"
   ]
  },
  {
   "cell_type": "markdown",
   "id": "aa3bfcde",
   "metadata": {},
   "source": [
    "For `pandas.DataFrame` object, there's a native pandas method to save it to a pickle file and load it afterwards."
   ]
  },
  {
   "cell_type": "code",
   "execution_count": null,
   "id": "0ad39700",
   "metadata": {},
   "outputs": [
    {
     "data": {
      "text/html": [
       "<div>\n",
       "<style scoped>\n",
       "    .dataframe tbody tr th:only-of-type {\n",
       "        vertical-align: middle;\n",
       "    }\n",
       "\n",
       "    .dataframe tbody tr th {\n",
       "        vertical-align: top;\n",
       "    }\n",
       "\n",
       "    .dataframe thead th {\n",
       "        text-align: right;\n",
       "    }\n",
       "</style>\n",
       "<table border=\"1\" class=\"dataframe\">\n",
       "  <thead>\n",
       "    <tr style=\"text-align: right;\">\n",
       "      <th></th>\n",
       "      <th>a</th>\n",
       "      <th>b</th>\n",
       "    </tr>\n",
       "  </thead>\n",
       "  <tbody>\n",
       "    <tr>\n",
       "      <th>0</th>\n",
       "      <td>1</td>\n",
       "      <td>real</td>\n",
       "    </tr>\n",
       "    <tr>\n",
       "      <th>1</th>\n",
       "      <td>2</td>\n",
       "      <td>estate</td>\n",
       "    </tr>\n",
       "    <tr>\n",
       "      <th>2</th>\n",
       "      <td>3</td>\n",
       "      <td>analytics</td>\n",
       "    </tr>\n",
       "  </tbody>\n",
       "</table>\n",
       "</div>"
      ],
      "text/plain": [
       "   a          b\n",
       "0  1       real\n",
       "1  2     estate\n",
       "2  3  analytics"
      ]
     },
     "metadata": {},
     "output_type": "display_data"
    }
   ],
   "source": [
    "# define a DataFrame\n",
    "df = pd.DataFrame()\n",
    "df[\"a\"] = [1, 2, 3]\n",
    "df[\"b\"] = [\"real\", \"estate\", \"analytics\"]\n",
    "\n",
    "# check the dataframe\n",
    "df"
   ]
  },
  {
   "cell_type": "code",
   "execution_count": null,
   "id": "25c682b7",
   "metadata": {},
   "outputs": [
    {
     "data": {
      "text/html": [
       "<div>\n",
       "<style scoped>\n",
       "    .dataframe tbody tr th:only-of-type {\n",
       "        vertical-align: middle;\n",
       "    }\n",
       "\n",
       "    .dataframe tbody tr th {\n",
       "        vertical-align: top;\n",
       "    }\n",
       "\n",
       "    .dataframe thead th {\n",
       "        text-align: right;\n",
       "    }\n",
       "</style>\n",
       "<table border=\"1\" class=\"dataframe\">\n",
       "  <thead>\n",
       "    <tr style=\"text-align: right;\">\n",
       "      <th></th>\n",
       "      <th>a</th>\n",
       "      <th>b</th>\n",
       "    </tr>\n",
       "  </thead>\n",
       "  <tbody>\n",
       "    <tr>\n",
       "      <th>0</th>\n",
       "      <td>1</td>\n",
       "      <td>real</td>\n",
       "    </tr>\n",
       "    <tr>\n",
       "      <th>1</th>\n",
       "      <td>2</td>\n",
       "      <td>estate</td>\n",
       "    </tr>\n",
       "    <tr>\n",
       "      <th>2</th>\n",
       "      <td>3</td>\n",
       "      <td>analytics</td>\n",
       "    </tr>\n",
       "  </tbody>\n",
       "</table>\n",
       "</div>"
      ],
      "text/plain": [
       "   a          b\n",
       "0  1       real\n",
       "1  2     estate\n",
       "2  3  analytics"
      ]
     },
     "metadata": {},
     "output_type": "display_data"
    }
   ],
   "source": [
    "# save it to pickle file\n",
    "df.to_pickle(\"save_df.pkl\")  # no need to specify \"wb\"\n",
    "\n",
    "# load it to a python object\n",
    "df_loaded = pd.read_pickle(\"save_df.pkl\")  # also no need to specify \"rb\"\n",
    "\n",
    "# check the loaded dataframe\n",
    "df_loaded"
   ]
  }
 ],
 "metadata": {
  "kernelspec": {
   "display_name": "rea",
   "language": "python",
   "name": "rea"
  },
  "language_info": {
   "codemirror_mode": {
    "name": "ipython",
    "version": 3
   },
   "file_extension": ".py",
   "mimetype": "text/x-python",
   "name": "python",
   "nbconvert_exporter": "python",
   "pygments_lexer": "ipython3",
   "version": "3.8.13"
  }
 },
 "nbformat": 4,
 "nbformat_minor": 5
}
